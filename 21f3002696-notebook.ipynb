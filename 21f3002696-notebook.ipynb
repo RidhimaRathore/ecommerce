{
 "cells": [
  {
   "cell_type": "code",
   "execution_count": 1,
   "id": "ae8cc47e",
   "metadata": {
    "_cell_guid": "b1076dfc-b9ad-4769-8c92-a6c4dae69d19",
    "_uuid": "8f2839f25d086af736a60e9eeb907d3b93b6e0e5",
    "execution": {
     "iopub.execute_input": "2023-04-14T05:11:19.461235Z",
     "iopub.status.busy": "2023-04-14T05:11:19.460060Z",
     "iopub.status.idle": "2023-04-14T05:11:19.477958Z",
     "shell.execute_reply": "2023-04-14T05:11:19.476432Z"
    },
    "papermill": {
     "duration": 0.027451,
     "end_time": "2023-04-14T05:11:19.480687",
     "exception": false,
     "start_time": "2023-04-14T05:11:19.453236",
     "status": "completed"
    },
    "tags": []
   },
   "outputs": [
    {
     "name": "stdout",
     "output_type": "stream",
     "text": [
      "/kaggle/input/e-commerce-shoppers-behaviour-understanding/test_data_v2.csv\n",
      "/kaggle/input/e-commerce-shoppers-behaviour-understanding/train_data_v2.csv\n",
      "/kaggle/input/e-commerce-shoppers-behaviour-understanding/sample.csv\n"
     ]
    }
   ],
   "source": [
    "import numpy as np\n",
    "import pandas as pd\n",
    "import os\n",
    "for dirname, _, filenames in os.walk('/kaggle/input'):\n",
    "    for filename in filenames:\n",
    "        print(os.path.join(dirname, filename))"
   ]
  },
  {
   "cell_type": "code",
   "execution_count": 2,
   "id": "ab481fdc",
   "metadata": {
    "execution": {
     "iopub.execute_input": "2023-04-14T05:11:19.489985Z",
     "iopub.status.busy": "2023-04-14T05:11:19.489528Z",
     "iopub.status.idle": "2023-04-14T05:11:21.250431Z",
     "shell.execute_reply": "2023-04-14T05:11:21.249173Z"
    },
    "papermill": {
     "duration": 1.768857,
     "end_time": "2023-04-14T05:11:21.253323",
     "exception": false,
     "start_time": "2023-04-14T05:11:19.484466",
     "status": "completed"
    },
    "tags": []
   },
   "outputs": [],
   "source": [
    "from sklearn.experimental import enable_iterative_imputer\n",
    "from sklearn.impute import IterativeImputer\n",
    "from sklearn.preprocessing import OneHotEncoder, MinMaxScaler, QuantileTransformer\n",
    "from sklearn.feature_selection import VarianceThreshold\n",
    "from sklearn.ensemble import ExtraTreesClassifier, AdaBoostClassifier, StackingClassifier, IsolationForest\n",
    "from sklearn.compose import make_column_transformer\n",
    "from sklearn.pipeline import make_pipeline\n",
    "from imblearn.over_sampling import BorderlineSMOTE\n",
    "from xgboost import XGBClassifier"
   ]
  },
  {
   "cell_type": "code",
   "execution_count": 3,
   "id": "dff0f1d1",
   "metadata": {
    "execution": {
     "iopub.execute_input": "2023-04-14T05:11:21.263886Z",
     "iopub.status.busy": "2023-04-14T05:11:21.263380Z",
     "iopub.status.idle": "2023-04-14T05:11:21.409292Z",
     "shell.execute_reply": "2023-04-14T05:11:21.408215Z"
    },
    "papermill": {
     "duration": 0.154279,
     "end_time": "2023-04-14T05:11:21.412333",
     "exception": false,
     "start_time": "2023-04-14T05:11:21.258054",
     "status": "completed"
    },
    "tags": []
   },
   "outputs": [],
   "source": [
    "train_data = pd.read_csv('/kaggle/input/e-commerce-shoppers-behaviour-understanding/train_data_v2.csv')\n",
    "test_data = pd.read_csv('/kaggle/input/e-commerce-shoppers-behaviour-understanding/test_data_v2.csv')"
   ]
  },
  {
   "cell_type": "code",
   "execution_count": 4,
   "id": "0fa6f8e4",
   "metadata": {
    "execution": {
     "iopub.execute_input": "2023-04-14T05:11:21.421726Z",
     "iopub.status.busy": "2023-04-14T05:11:21.421251Z",
     "iopub.status.idle": "2023-04-14T05:11:21.447490Z",
     "shell.execute_reply": "2023-04-14T05:11:21.446203Z"
    },
    "papermill": {
     "duration": 0.034293,
     "end_time": "2023-04-14T05:11:21.450458",
     "exception": false,
     "start_time": "2023-04-14T05:11:21.416165",
     "status": "completed"
    },
    "tags": []
   },
   "outputs": [],
   "source": [
    "x_train = train_data.iloc[:, :-1]\n",
    "y_train = train_data.iloc[:, -1]\n",
    "x_test = test_data.iloc[:, :]\n",
    "outlier = IsolationForest(random_state=42)\n",
    "resampler = BorderlineSMOTE(random_state=42)\n",
    "selector = VarianceThreshold(threshold=0.3)\n",
    "encoder = make_column_transformer((OneHotEncoder(drop='first', sparse=False), x_train.select_dtypes(include='object').columns), remainder='passthrough', verbose_feature_names_out=False)\n",
    "pipe = make_pipeline(encoder, IterativeImputer(random_state=42), MinMaxScaler(), QuantileTransformer(output_distribution='normal', random_state=42))"
   ]
  },
  {
   "cell_type": "code",
   "execution_count": 5,
   "id": "b8a21882",
   "metadata": {
    "execution": {
     "iopub.execute_input": "2023-04-14T05:11:21.459965Z",
     "iopub.status.busy": "2023-04-14T05:11:21.459490Z",
     "iopub.status.idle": "2023-04-14T05:11:29.164298Z",
     "shell.execute_reply": "2023-04-14T05:11:29.162942Z"
    },
    "papermill": {
     "duration": 7.712811,
     "end_time": "2023-04-14T05:11:29.167168",
     "exception": false,
     "start_time": "2023-04-14T05:11:21.454357",
     "status": "completed"
    },
    "tags": []
   },
   "outputs": [],
   "source": [
    "# Encoding, Imputation, Scaling, Transformation\n",
    "\n",
    "x_train = pd.DataFrame(pipe.fit_transform(x_train), columns=encoder.get_feature_names_out())\n",
    "x_test = pd.DataFrame(pipe.transform(x_test), columns=encoder.get_feature_names_out())"
   ]
  },
  {
   "cell_type": "code",
   "execution_count": 6,
   "id": "d9859ab9",
   "metadata": {
    "execution": {
     "iopub.execute_input": "2023-04-14T05:11:29.176445Z",
     "iopub.status.busy": "2023-04-14T05:11:29.175950Z",
     "iopub.status.idle": "2023-04-14T05:11:30.545640Z",
     "shell.execute_reply": "2023-04-14T05:11:30.544367Z"
    },
    "papermill": {
     "duration": 1.377908,
     "end_time": "2023-04-14T05:11:30.548746",
     "exception": false,
     "start_time": "2023-04-14T05:11:29.170838",
     "status": "completed"
    },
    "tags": []
   },
   "outputs": [],
   "source": [
    "# Outlier Detection & Removal\n",
    "\n",
    "data = pd.concat([x_train, y_train], axis=1)\n",
    "clf = outlier.fit_predict(data)\n",
    "clf_df = pd.DataFrame(clf, columns=['score'])\n",
    "data = pd.concat([data, clf_df], axis=1)\n",
    "data = data[data['score'] == 1]\n",
    "data = data.drop(['score'], axis=1)\n",
    "x_train = data.iloc[:, :-1]\n",
    "y_train = data.iloc[:, -1]\n",
    "y_train = y_train.astype('int')"
   ]
  },
  {
   "cell_type": "code",
   "execution_count": 7,
   "id": "17ae8b24",
   "metadata": {
    "execution": {
     "iopub.execute_input": "2023-04-14T05:11:30.557868Z",
     "iopub.status.busy": "2023-04-14T05:11:30.557396Z",
     "iopub.status.idle": "2023-04-14T05:11:33.022272Z",
     "shell.execute_reply": "2023-04-14T05:11:33.020956Z"
    },
    "papermill": {
     "duration": 2.473107,
     "end_time": "2023-04-14T05:11:33.025594",
     "exception": false,
     "start_time": "2023-04-14T05:11:30.552487",
     "status": "completed"
    },
    "tags": []
   },
   "outputs": [],
   "source": [
    "# Class Rebalancing\n",
    "\n",
    "x_train_resample, y_train = resampler.fit_resample(x_train, y_train)\n",
    "x_train = pd.DataFrame(x_train_resample)"
   ]
  },
  {
   "cell_type": "code",
   "execution_count": 8,
   "id": "0bfed50b",
   "metadata": {
    "execution": {
     "iopub.execute_input": "2023-04-14T05:11:33.034836Z",
     "iopub.status.busy": "2023-04-14T05:11:33.034356Z",
     "iopub.status.idle": "2023-04-14T05:11:33.064400Z",
     "shell.execute_reply": "2023-04-14T05:11:33.063172Z"
    },
    "papermill": {
     "duration": 0.037955,
     "end_time": "2023-04-14T05:11:33.067276",
     "exception": false,
     "start_time": "2023-04-14T05:11:33.029321",
     "status": "completed"
    },
    "tags": []
   },
   "outputs": [],
   "source": [
    "# Feature Selection\n",
    "\n",
    "x_train = pd.DataFrame(selector.fit_transform(x_train), columns=selector.get_feature_names_out())\n",
    "x_test = pd.DataFrame(selector.transform(x_test), columns=selector.get_feature_names_out())"
   ]
  },
  {
   "cell_type": "code",
   "execution_count": 9,
   "id": "e217dadb",
   "metadata": {
    "execution": {
     "iopub.execute_input": "2023-04-14T05:11:33.076517Z",
     "iopub.status.busy": "2023-04-14T05:11:33.075996Z",
     "iopub.status.idle": "2023-04-14T05:15:11.753852Z",
     "shell.execute_reply": "2023-04-14T05:15:11.752695Z"
    },
    "papermill": {
     "duration": 218.686131,
     "end_time": "2023-04-14T05:15:11.757090",
     "exception": false,
     "start_time": "2023-04-14T05:11:33.070959",
     "status": "completed"
    },
    "tags": []
   },
   "outputs": [],
   "source": [
    "# Estimation\n",
    "\n",
    "xgb = XGBClassifier(max_depth=8, learning_rate=0.01, colsample_bytree=0.3, objective=\"binary:logistic\", random_state=42)\n",
    "ada = AdaBoostClassifier(n_estimators=49, random_state=0)\n",
    "et = ExtraTreesClassifier(n_estimators=1000, random_state=0)\n",
    "estimators = [('ada', ada), ('et', et)]\n",
    "classifier = StackingClassifier(estimators=estimators, final_estimator=xgb, passthrough=True)\n",
    "\n",
    "classifier.fit(x_train, y_train)\n",
    "y_pred = classifier.predict(x_test)"
   ]
  },
  {
   "cell_type": "code",
   "execution_count": 10,
   "id": "5027e101",
   "metadata": {
    "execution": {
     "iopub.execute_input": "2023-04-14T05:15:11.768287Z",
     "iopub.status.busy": "2023-04-14T05:15:11.767815Z",
     "iopub.status.idle": "2023-04-14T05:15:11.789756Z",
     "shell.execute_reply": "2023-04-14T05:15:11.788366Z"
    },
    "papermill": {
     "duration": 0.031293,
     "end_time": "2023-04-14T05:15:11.792911",
     "exception": false,
     "start_time": "2023-04-14T05:15:11.761618",
     "status": "completed"
    },
    "tags": []
   },
   "outputs": [],
   "source": [
    "# Submission\n",
    "\n",
    "df = pd.DataFrame()\n",
    "df['id'] = range(6599)\n",
    "df['Made_Purchase'] = y_pred\n",
    "df['Made_Purchase'] = df['Made_Purchase'].astype(bool)\n",
    "df.to_csv('submission.csv', index=False)"
   ]
  }
 ],
 "metadata": {
  "kernelspec": {
   "display_name": "Python 3",
   "language": "python",
   "name": "python3"
  },
  "language_info": {
   "codemirror_mode": {
    "name": "ipython",
    "version": 3
   },
   "file_extension": ".py",
   "mimetype": "text/x-python",
   "name": "python",
   "nbconvert_exporter": "python",
   "pygments_lexer": "ipython3",
   "version": "3.7.12"
  },
  "papermill": {
   "default_parameters": {},
   "duration": 244.157633,
   "end_time": "2023-04-14T05:15:13.023959",
   "environment_variables": {},
   "exception": null,
   "input_path": "__notebook__.ipynb",
   "output_path": "__notebook__.ipynb",
   "parameters": {},
   "start_time": "2023-04-14T05:11:08.866326",
   "version": "2.3.4"
  }
 },
 "nbformat": 4,
 "nbformat_minor": 5
}
